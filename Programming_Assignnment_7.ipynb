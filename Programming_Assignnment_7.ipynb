{
 "cells": [
  {
   "cell_type": "markdown",
   "id": "b20ea130",
   "metadata": {},
   "source": [
    "# Programming Assignment 7 by Thomas Thurzo"
   ]
  },
  {
   "cell_type": "markdown",
   "id": "2b64affa",
   "metadata": {},
   "source": [
    "### 1:\tWrite a Python Program to find sum of array."
   ]
  },
  {
   "cell_type": "code",
   "execution_count": 9,
   "id": "5411e916",
   "metadata": {},
   "outputs": [
    {
     "name": "stdout",
     "output_type": "stream",
     "text": [
      "10\n"
     ]
    }
   ],
   "source": [
    "import array as arr\n",
    "\n",
    "a = arr.array('i', [1, 2, 3, 4])\n",
    "sum = 0\n",
    "\n",
    "for i in a:\n",
    "    sum = sum + i\n",
    "    \n",
    "print(sum)"
   ]
  },
  {
   "cell_type": "markdown",
   "id": "36f3b17d",
   "metadata": {},
   "source": [
    "### 2: Write a Python Program to find largest element in an array."
   ]
  },
  {
   "cell_type": "code",
   "execution_count": 11,
   "id": "306d8281",
   "metadata": {},
   "outputs": [
    {
     "name": "stdout",
     "output_type": "stream",
     "text": [
      "87\n"
     ]
    }
   ],
   "source": [
    "b = arr.array('i', [32,11,34,87,6,3])\n",
    "num = 0\n",
    "\n",
    "for i in b:\n",
    "    if i > num:\n",
    "        num = i\n",
    "\n",
    "print(num)"
   ]
  },
  {
   "cell_type": "markdown",
   "id": "0360492e",
   "metadata": {},
   "source": [
    "### 3: Write a Python Program for array rotation."
   ]
  },
  {
   "cell_type": "code",
   "execution_count": 17,
   "id": "95e28af8",
   "metadata": {},
   "outputs": [
    {
     "name": "stdout",
     "output_type": "stream",
     "text": [
      "array('i', [21, 13, 8, 5, 3, 2, 1])\n",
      "array('i', [1, 2, 3, 5, 8, 13, 21])\n"
     ]
    }
   ],
   "source": [
    "c = arr.array('i', [1,2,3,5,8,13,21])\n",
    "newArray = arr.array('i', [])\n",
    "\n",
    "newArray = c[::-1]\n",
    "print(newArray)\n",
    "print(c)"
   ]
  },
  {
   "cell_type": "markdown",
   "id": "825dd716",
   "metadata": {},
   "source": [
    "### 4: Write a Python Program to Split the array and add the first part to the end"
   ]
  },
  {
   "cell_type": "code",
   "execution_count": 16,
   "id": "f5d9cfc7",
   "metadata": {},
   "outputs": [
    {
     "name": "stdout",
     "output_type": "stream",
     "text": [
      "3 4 1 2 "
     ]
    }
   ],
   "source": [
    "def splitArr(a, n, k): \n",
    "   b = a[:k]\n",
    "   return (a[k::] + b[::])\n",
    "          \n",
    "  \n",
    "arr = [1, 2, 3, 4]\n",
    "n = len(arr)\n",
    "position = 2\n",
    "arr = splitArr(arr, n, position)\n",
    "for i in range(0, n): \n",
    "    print(arr[i], end = ' ')"
   ]
  },
  {
   "cell_type": "markdown",
   "id": "82cc7002",
   "metadata": {},
   "source": [
    "### 5: Write a Python Program to check if given array is Monotonic"
   ]
  },
  {
   "cell_type": "code",
   "execution_count": 27,
   "id": "6337140f",
   "metadata": {},
   "outputs": [
    {
     "data": {
      "text/plain": [
       "False"
      ]
     },
     "execution_count": 27,
     "metadata": {},
     "output_type": "execute_result"
    }
   ],
   "source": [
    "import array as arr\n",
    "d = arr.array('i', [1,2,3,4,5,2])\n",
    "\n",
    "def checker(array):\n",
    "    check = 0\n",
    "    for i in array:\n",
    "        if i < check:\n",
    "            return False\n",
    "        else:\n",
    "            check = d[i-1]\n",
    "    return True\n",
    "\n",
    "checker(d)\n",
    "    \n"
   ]
  },
  {
   "cell_type": "code",
   "execution_count": null,
   "id": "d510c843",
   "metadata": {},
   "outputs": [],
   "source": []
  }
 ],
 "metadata": {
  "kernelspec": {
   "display_name": "Python 3 (ipykernel)",
   "language": "python",
   "name": "python3"
  },
  "language_info": {
   "codemirror_mode": {
    "name": "ipython",
    "version": 3
   },
   "file_extension": ".py",
   "mimetype": "text/x-python",
   "name": "python",
   "nbconvert_exporter": "python",
   "pygments_lexer": "ipython3",
   "version": "3.9.7"
  }
 },
 "nbformat": 4,
 "nbformat_minor": 5
}
