{
 "cells": [
  {
   "cell_type": "markdown",
   "id": "922e09a8",
   "metadata": {},
   "source": [
    "# Programming Assignment 4 by Thomas Thurzo"
   ]
  },
  {
   "cell_type": "markdown",
   "id": "e5942dc6",
   "metadata": {},
   "source": [
    "### 1: Write a Python Program to Display the multiplication Table"
   ]
  },
  {
   "cell_type": "code",
   "execution_count": 4,
   "id": "ec9406dc",
   "metadata": {},
   "outputs": [
    {
     "name": "stdout",
     "output_type": "stream",
     "text": [
      "10 x 1 = 10\n",
      "10 x 2 = 20\n",
      "10 x 3 = 30\n",
      "10 x 4 = 40\n",
      "10 x 5 = 50\n",
      "10 x 6 = 60\n",
      "10 x 7 = 70\n",
      "10 x 8 = 80\n",
      "10 x 9 = 90\n",
      "10 x 10 = 100\n"
     ]
    }
   ],
   "source": [
    "for i in range(1, 11):\n",
    "   print(10, 'x', i, '=', 10*i)\n"
   ]
  },
  {
   "cell_type": "markdown",
   "id": "b111b0c9",
   "metadata": {},
   "source": [
    "### 2: Write a Python Program to Print the Fibonacci sequence."
   ]
  },
  {
   "cell_type": "code",
   "execution_count": 9,
   "id": "72ba8990",
   "metadata": {},
   "outputs": [
    {
     "name": "stdout",
     "output_type": "stream",
     "text": [
      "First 50 Fibonacci numbers:\n",
      "0\n",
      "1\n",
      "1\n",
      "2\n",
      "3\n",
      "5\n",
      "8\n",
      "13\n",
      "21\n",
      "34\n",
      "55\n",
      "89\n",
      "144\n",
      "233\n",
      "377\n",
      "610\n",
      "987\n",
      "1597\n",
      "2584\n",
      "4181\n",
      "6765\n",
      "10946\n",
      "17711\n",
      "28657\n",
      "46368\n",
      "75025\n",
      "121393\n",
      "196418\n",
      "317811\n",
      "514229\n",
      "832040\n",
      "1346269\n",
      "2178309\n",
      "3524578\n",
      "5702887\n",
      "9227465\n",
      "14930352\n",
      "24157817\n",
      "39088169\n",
      "63245986\n",
      "102334155\n",
      "165580141\n",
      "267914296\n",
      "433494437\n",
      "701408733\n",
      "1134903170\n",
      "1836311903\n",
      "2971215073\n",
      "4807526976\n",
      "7778742049\n"
     ]
    }
   ],
   "source": [
    "counter = 0\n",
    "n1 = 0\n",
    "n2 = 1\n",
    "\n",
    "print(\"First 50 Fibonacci numbers:\")\n",
    "\n",
    "while counter < 50:\n",
    "    print(n1)\n",
    "    nth = n1 + n2\n",
    "    n1 = n2\n",
    "    n2 = nth\n",
    "    counter += 1"
   ]
  },
  {
   "cell_type": "markdown",
   "id": "60e94301",
   "metadata": {},
   "source": [
    "### 3:\tWrite a Python Program to Check Armstrong Number."
   ]
  },
  {
   "cell_type": "code",
   "execution_count": 44,
   "id": "6e4c70d9",
   "metadata": {},
   "outputs": [
    {
     "name": "stdout",
     "output_type": "stream",
     "text": [
      "Please enter a number: 93084\n",
      "The number is an armstrong number\n"
     ]
    }
   ],
   "source": [
    "num = input(\"Please enter a number: \")\n",
    "length = len(num)\n",
    "result = 0\n",
    "\n",
    "for i in range(length):\n",
    "    result = int(num[i]) ** length + result\n",
    "    \n",
    "if result == int(num):\n",
    "    print(\"The number is an armstrong number\")\n",
    "else:\n",
    "    print(\"The number is not an armstrong number\")"
   ]
  },
  {
   "cell_type": "markdown",
   "id": "5d8dd0e2",
   "metadata": {},
   "source": [
    "### 4: Write a Python Program to Find Armstrong Number in an Interval"
   ]
  },
  {
   "cell_type": "code",
   "execution_count": 26,
   "id": "c8a0151f",
   "metadata": {},
   "outputs": [
    {
     "name": "stdout",
     "output_type": "stream",
     "text": [
      "0\n",
      "1\n",
      "2\n",
      "3\n",
      "4\n",
      "5\n",
      "6\n",
      "7\n",
      "8\n",
      "9\n",
      "153\n",
      "370\n",
      "371\n",
      "407\n",
      "1634\n"
     ]
    }
   ],
   "source": [
    "def armstrongNumber(number):\n",
    "    number = str(number)\n",
    "    length = len(number)\n",
    "    result = 0\n",
    "\n",
    "    for i in range(length):\n",
    "        result = int(number[i]) ** length + result\n",
    "    \n",
    "    if result == int(number):\n",
    "        return number\n",
    "    else:\n",
    "        return 0\n",
    "\n",
    "for i in range(2000):\n",
    "    if int(armstrongNumber(i)) == i:\n",
    "        print(i)\n"
   ]
  },
  {
   "cell_type": "markdown",
   "id": "a713130f",
   "metadata": {},
   "source": [
    "### 5: Write a Python Program to Find the Sum of Natural Numbers"
   ]
  },
  {
   "cell_type": "code",
   "execution_count": 33,
   "id": "a3f1537d",
   "metadata": {},
   "outputs": [
    {
     "name": "stdout",
     "output_type": "stream",
     "text": [
      "4950\n"
     ]
    }
   ],
   "source": [
    "summe = 0\n",
    "\n",
    "for i in range(100):\n",
    "    summe = summe + i\n",
    "print(summe)"
   ]
  },
  {
   "cell_type": "code",
   "execution_count": null,
   "id": "62bab04d",
   "metadata": {},
   "outputs": [],
   "source": []
  },
  {
   "cell_type": "code",
   "execution_count": null,
   "id": "f4d80eeb",
   "metadata": {},
   "outputs": [],
   "source": []
  }
 ],
 "metadata": {
  "kernelspec": {
   "display_name": "Python 3 (ipykernel)",
   "language": "python",
   "name": "python3"
  },
  "language_info": {
   "codemirror_mode": {
    "name": "ipython",
    "version": 3
   },
   "file_extension": ".py",
   "mimetype": "text/x-python",
   "name": "python",
   "nbconvert_exporter": "python",
   "pygments_lexer": "ipython3",
   "version": "3.9.7"
  }
 },
 "nbformat": 4,
 "nbformat_minor": 5
}
