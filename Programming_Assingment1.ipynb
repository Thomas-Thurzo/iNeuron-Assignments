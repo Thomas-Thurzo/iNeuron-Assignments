{
 "cells": [
  {
   "cell_type": "markdown",
   "id": "f73d65bc",
   "metadata": {},
   "source": [
    "# Programming Assingment 1 by Thomas Thurzo"
   ]
  },
  {
   "cell_type": "markdown",
   "id": "b7cf4917",
   "metadata": {},
   "source": [
    "### 1: Write a Python program to print \"Hello Python\""
   ]
  },
  {
   "cell_type": "code",
   "execution_count": 1,
   "id": "2061c578",
   "metadata": {},
   "outputs": [
    {
     "name": "stdout",
     "output_type": "stream",
     "text": [
      "Hello Python\n"
     ]
    }
   ],
   "source": [
    "print(\"Hello Python\")"
   ]
  },
  {
   "cell_type": "markdown",
   "id": "a348b3d6",
   "metadata": {},
   "source": [
    "### 2: Write a Python program to do arithmetical operations addition and division"
   ]
  },
  {
   "cell_type": "code",
   "execution_count": 6,
   "id": "fe26e981",
   "metadata": {},
   "outputs": [
    {
     "name": "stdout",
     "output_type": "stream",
     "text": [
      "20 + 20 = 40\n",
      "20 / 20 = 1.0\n"
     ]
    }
   ],
   "source": [
    "num1 = 20\n",
    "num2 = 20\n",
    "result1 = num1 + num2\n",
    "result2 = num1 / num2\n",
    "print (\"20 + 20 = \" + str(result1))\n",
    "print (\"20 / 20 = \" + str(result2))"
   ]
  },
  {
   "cell_type": "markdown",
   "id": "e6bd9e29",
   "metadata": {},
   "source": [
    "### 3: Write a Python program to find the area of a triangle"
   ]
  },
  {
   "cell_type": "code",
   "execution_count": 13,
   "id": "613548be",
   "metadata": {},
   "outputs": [
    {
     "name": "stdout",
     "output_type": "stream",
     "text": [
      "Please enter the height of the triangle: 10\n",
      "Please enter the width of the triangle: 10\n",
      "The area of the triangle is: 50.0\n"
     ]
    }
   ],
   "source": [
    "height = input(\"Please enter the height of the triangle: \")\n",
    "width = input(\"Please enter the width of the triangle: \")\n",
    "result = (int(height) * int(width)) / 2\n",
    "print(\"The area of the triangle is: \" + str(result))"
   ]
  },
  {
   "cell_type": "markdown",
   "id": "905746db",
   "metadata": {},
   "source": [
    "### 4: Write a Python program to swap two variables"
   ]
  },
  {
   "cell_type": "code",
   "execution_count": 16,
   "id": "8bd93e64",
   "metadata": {},
   "outputs": [
    {
     "name": "stdout",
     "output_type": "stream",
     "text": [
      "var1 = 20\n",
      "var2 = 10\n"
     ]
    }
   ],
   "source": [
    "var1 = 10\n",
    "var2 = 20\n",
    "var3 = var1\n",
    "var1 = var2\n",
    "var2 = var3\n",
    "print(\"var1 = \" + str(var1))\n",
    "print(\"var2 = \" + str(var2))"
   ]
  },
  {
   "cell_type": "markdown",
   "id": "871ca89f",
   "metadata": {},
   "source": [
    "### 5: Write a Python program to generate a random number "
   ]
  },
  {
   "cell_type": "code",
   "execution_count": 18,
   "id": "e036f5a6",
   "metadata": {},
   "outputs": [],
   "source": [
    "import time"
   ]
  },
  {
   "cell_type": "code",
   "execution_count": 57,
   "id": "d2d04aff",
   "metadata": {},
   "outputs": [
    {
     "name": "stdout",
     "output_type": "stream",
     "text": [
      "A random number: 1440\n"
     ]
    }
   ],
   "source": [
    "num1 = time.gmtime().tm_sec\n",
    "num2 = time.gmtime().tm_min\n",
    "num3 = time.gmtime().tm_hour\n",
    "randomValue = num1 * num2 * num3\n",
    "print(\"A random number: \" + str(randomValue))"
   ]
  },
  {
   "cell_type": "markdown",
   "id": "61aca236",
   "metadata": {},
   "source": [
    "I know this is pseudo random. But everything is pseudo random. "
   ]
  }
 ],
 "metadata": {
  "kernelspec": {
   "display_name": "Python 3 (ipykernel)",
   "language": "python",
   "name": "python3"
  },
  "language_info": {
   "codemirror_mode": {
    "name": "ipython",
    "version": 3
   },
   "file_extension": ".py",
   "mimetype": "text/x-python",
   "name": "python",
   "nbconvert_exporter": "python",
   "pygments_lexer": "ipython3",
   "version": "3.9.7"
  }
 },
 "nbformat": 4,
 "nbformat_minor": 5
}
