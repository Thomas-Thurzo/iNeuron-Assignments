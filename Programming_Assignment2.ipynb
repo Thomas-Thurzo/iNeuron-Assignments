{
 "cells": [
  {
   "cell_type": "markdown",
   "id": "6c79f9c6",
   "metadata": {},
   "source": [
    "# Programming Assignment 2 by Thomas Thurzo"
   ]
  },
  {
   "cell_type": "markdown",
   "id": "f28e4252",
   "metadata": {},
   "source": [
    "### 1: Write a Python program to convert kilometers to miles."
   ]
  },
  {
   "cell_type": "code",
   "execution_count": 6,
   "id": "24328430",
   "metadata": {},
   "outputs": [
    {
     "name": "stdout",
     "output_type": "stream",
     "text": [
      "Please enter kilometers: 10\n",
      "10.0 kilometers are 6.21 miles\n"
     ]
    }
   ],
   "source": [
    "inputValue = float(input(\"Please enter kilometers: \"))\n",
    "miles = round(0.621371 * inputValue, 2)\n",
    "print(str(inputValue) + \" kilometers are \" + str(miles) + \" miles\")"
   ]
  },
  {
   "cell_type": "markdown",
   "id": "fdc6b08b",
   "metadata": {},
   "source": [
    "### 2: Write a Python program to convert Celsius to Fahrenheit."
   ]
  },
  {
   "cell_type": "code",
   "execution_count": 9,
   "id": "56ea6b00",
   "metadata": {},
   "outputs": [
    {
     "name": "stdout",
     "output_type": "stream",
     "text": [
      "Plese enter the temperature in celsius: 45\n",
      "45.0 degree celsius are 113.0 fahrenheit\n"
     ]
    }
   ],
   "source": [
    "celsius = float(input(\"Plese enter the temperature in celsius: \"))\n",
    "fahrenheit = (celsius * 1.8) + 32\n",
    "print(str(celsius) + \" degree celsius are \" + str(fahrenheit) + \" fahrenheit\")"
   ]
  },
  {
   "cell_type": "markdown",
   "id": "9ddf7467",
   "metadata": {},
   "source": [
    "### 3: Write a Python program to display calendar."
   ]
  },
  {
   "cell_type": "code",
   "execution_count": 13,
   "id": "e28f6829",
   "metadata": {},
   "outputs": [
    {
     "name": "stdout",
     "output_type": "stream",
     "text": [
      "    August 2022\n",
      "Mo Tu We Th Fr Sa Su\n",
      " 1  2  3  4  5  6  7\n",
      " 8  9 10 11 12 13 14\n",
      "15 16 17 18 19 20 21\n",
      "22 23 24 25 26 27 28\n",
      "29 30 31\n",
      "\n"
     ]
    }
   ],
   "source": [
    "import calendar\n",
    "\n",
    "yy = 2022  \n",
    "mm = 8  \n",
    "\n",
    "print(calendar.month(yy, mm))\n"
   ]
  },
  {
   "cell_type": "markdown",
   "id": "4029a794",
   "metadata": {},
   "source": [
    "### 4: Write a Python program to solve quadratic equation"
   ]
  },
  {
   "cell_type": "code",
   "execution_count": 3,
   "id": "5d00fad2",
   "metadata": {},
   "outputs": [
    {
     "name": "stdout",
     "output_type": "stream",
     "text": [
      "The solution is  (-3+0j)  and (-2+0j)\n"
     ]
    }
   ],
   "source": [
    "import cmath\n",
    "\n",
    "a = 1\n",
    "b = 5\n",
    "c = 6\n",
    "\n",
    "d = (b**2) - (4*a*c)\n",
    "\n",
    "sol1 = (-b-cmath.sqrt(d))/(2*a)\n",
    "sol2 = (-b+cmath.sqrt(d))/(2*a)\n",
    "\n",
    "print(\"The solution is \", sol1, \" and\", sol2)"
   ]
  },
  {
   "cell_type": "markdown",
   "id": "805bcf5b",
   "metadata": {},
   "source": [
    "### 5: Wirte a Python program to swap two variables without temp variable."
   ]
  },
  {
   "cell_type": "code",
   "execution_count": 4,
   "id": "19d2942d",
   "metadata": {},
   "outputs": [
    {
     "name": "stdout",
     "output_type": "stream",
     "text": [
      "2 1\n"
     ]
    }
   ],
   "source": [
    "a = 1\n",
    "b = 2\n",
    "a, b = b, a\n",
    "print(a, b)"
   ]
  },
  {
   "cell_type": "code",
   "execution_count": null,
   "id": "897dad9f",
   "metadata": {},
   "outputs": [],
   "source": []
  }
 ],
 "metadata": {
  "kernelspec": {
   "display_name": "Python 3 (ipykernel)",
   "language": "python",
   "name": "python3"
  },
  "language_info": {
   "codemirror_mode": {
    "name": "ipython",
    "version": 3
   },
   "file_extension": ".py",
   "mimetype": "text/x-python",
   "name": "python",
   "nbconvert_exporter": "python",
   "pygments_lexer": "ipython3",
   "version": "3.9.7"
  }
 },
 "nbformat": 4,
 "nbformat_minor": 5
}
