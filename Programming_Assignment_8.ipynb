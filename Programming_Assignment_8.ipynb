{
 "cells": [
  {
   "cell_type": "markdown",
   "id": "eb1727cd",
   "metadata": {},
   "source": [
    "# Programming Assignment 8 by Thomas Thurzo"
   ]
  },
  {
   "cell_type": "markdown",
   "id": "95b32847",
   "metadata": {},
   "source": [
    "### 1:\tWrite a Python Program to Add Two Matrices."
   ]
  },
  {
   "cell_type": "code",
   "execution_count": 7,
   "id": "4831fc64",
   "metadata": {},
   "outputs": [
    {
     "name": "stdout",
     "output_type": "stream",
     "text": [
      "[2, 4, 6]\n",
      "[2, 4, 6]\n"
     ]
    }
   ],
   "source": [
    "a = [[1,2,3], [1,2,3]]\n",
    "b = [[1,2,3], [1,2,3]]\n",
    "result = [[0,0,0], [0,0,0]]\n",
    "\n",
    "for i in range(len(a)):\n",
    "   for j in range(len(a[0])):\n",
    "       result[i][j] = a[i][j] + b[i][j]\n",
    "\n",
    "for r in result:\n",
    "   print(r)"
   ]
  },
  {
   "cell_type": "markdown",
   "id": "8554fa1f",
   "metadata": {},
   "source": [
    "### 2:\tWrite a Python Program to Multiply Two Matrices."
   ]
  },
  {
   "cell_type": "markdown",
   "id": "0a60cac7",
   "metadata": {},
   "source": [
    "\n",
    "I am sorry, I have tried it, but I was not able to code this."
   ]
  },
  {
   "cell_type": "markdown",
   "id": "c1b3998b",
   "metadata": {},
   "source": [
    "###  3:\tWrite a Python Program to Transpose a Matrix."
   ]
  },
  {
   "cell_type": "code",
   "execution_count": 8,
   "id": "1322eec1",
   "metadata": {},
   "outputs": [
    {
     "name": "stdout",
     "output_type": "stream",
     "text": [
      "[1, 3, 5]\n",
      "[2, 4, 6]\n"
     ]
    }
   ],
   "source": [
    "a = [[1,2], [3,4], [5,6]]\n",
    "result = [[0,0,0], [0,0,0]]\n",
    "\n",
    "for i in range(len(a)):\n",
    "   for j in range(len(a[0])):\n",
    "       result[j][i] = a[i][j]\n",
    "\n",
    "for i in result:\n",
    "   print(i)"
   ]
  },
  {
   "cell_type": "markdown",
   "id": "dcef4055",
   "metadata": {},
   "source": [
    "### 4:\tWrite a Python Program to Sort Words in Alphabetic Order."
   ]
  },
  {
   "cell_type": "code",
   "execution_count": 11,
   "id": "4f692980",
   "metadata": {},
   "outputs": [],
   "source": [
    "l = [\"peter\", [\"tom\"], [\"mary\"]]"
   ]
  },
  {
   "cell_type": "code",
   "execution_count": 20,
   "id": "440e93a2",
   "metadata": {},
   "outputs": [
    {
     "name": "stdout",
     "output_type": "stream",
     "text": [
      "Input s to Stop the input and sort the words.\n",
      "Please enter a word: Thomas\n",
      "Please enter a word: Peter\n",
      "Please enter a word: Franz\n",
      "Please enter a word: Christian\n",
      "Please enter a word: Albert\n",
      "Please enter a word: Hans\n",
      "Please enter a word: s\n",
      "['Albert', 'Christian', 'Franz', 'Hans', 'Peter', 'Thomas']\n"
     ]
    }
   ],
   "source": [
    "print(\"Input s to Stop the input and sort the words.\")\n",
    "l = []\n",
    "\n",
    "while True:\n",
    "    inputWord = input(\"Please enter a word: \")\n",
    "    if inputWord == \"s\":\n",
    "        break\n",
    "    else:\n",
    "        l.append(inputWord)\n",
    "\n",
    "l.sort()\n",
    "print(l)\n",
    "        "
   ]
  },
  {
   "cell_type": "markdown",
   "id": "14df43f3",
   "metadata": {},
   "source": [
    "### 5:\tWrite a Python Program to Remove Punctuation From a String."
   ]
  },
  {
   "cell_type": "code",
   "execution_count": 31,
   "id": "e87506df",
   "metadata": {},
   "outputs": [
    {
     "name": "stdout",
     "output_type": "stream",
     "text": [
      "Please enter a string with a point: .Thomas.Tho.Thom.Thomas.\n",
      "ThomasThoThomThomas\n"
     ]
    }
   ],
   "source": [
    "word = input(\"Please enter a string with a point: \")\n",
    "newWord = \"\"\n",
    "\n",
    "for i in range(len(word)):\n",
    "    if word[i] != \".\":\n",
    "        newWord = newWord + word[i]\n",
    "        \n",
    "        \n",
    "print(newWord)\n",
    "\n",
    "\n",
    "        \n",
    "        "
   ]
  },
  {
   "cell_type": "code",
   "execution_count": null,
   "id": "8a754df7",
   "metadata": {},
   "outputs": [],
   "source": []
  }
 ],
 "metadata": {
  "kernelspec": {
   "display_name": "Python 3 (ipykernel)",
   "language": "python",
   "name": "python3"
  },
  "language_info": {
   "codemirror_mode": {
    "name": "ipython",
    "version": 3
   },
   "file_extension": ".py",
   "mimetype": "text/x-python",
   "name": "python",
   "nbconvert_exporter": "python",
   "pygments_lexer": "ipython3",
   "version": "3.9.7"
  }
 },
 "nbformat": 4,
 "nbformat_minor": 5
}
