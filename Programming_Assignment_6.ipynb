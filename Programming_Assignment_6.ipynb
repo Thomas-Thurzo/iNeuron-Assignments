{
 "cells": [
  {
   "cell_type": "markdown",
   "id": "c9da3299",
   "metadata": {},
   "source": [
    "# Programming Assignment 6 by Thomas Thurzo"
   ]
  },
  {
   "cell_type": "markdown",
   "id": "94710f84",
   "metadata": {},
   "source": [
    "### 1: Write a Python program to display fibonacci Sequence using recursion."
   ]
  },
  {
   "cell_type": "code",
   "execution_count": 18,
   "id": "2f9f7230",
   "metadata": {},
   "outputs": [
    {
     "name": "stdout",
     "output_type": "stream",
     "text": [
      "0\n",
      "1\n",
      "1\n",
      "2\n",
      "3\n",
      "5\n",
      "8\n",
      "13\n",
      "21\n",
      "34\n"
     ]
    }
   ],
   "source": [
    "def fib(num):\n",
    "    if num <= 1:\n",
    "        return(num)\n",
    "    else:\n",
    "        return(fib(num - 1) + fib(num - 2))\n",
    "    \n",
    "for i in range(10):\n",
    "    print(fib(i))"
   ]
  },
  {
   "cell_type": "markdown",
   "id": "2b456ddf",
   "metadata": {},
   "source": [
    "### 2: Write a Python program to find factorial of number using recursion."
   ]
  },
  {
   "cell_type": "code",
   "execution_count": 14,
   "id": "acbe35bf",
   "metadata": {},
   "outputs": [
    {
     "data": {
      "text/plain": [
       "720"
      ]
     },
     "execution_count": 14,
     "metadata": {},
     "output_type": "execute_result"
    }
   ],
   "source": [
    "def fac(num):\n",
    "    facNumber = 1\n",
    "    for i in range(1,num + 1):\n",
    "        facNumber = facNumber * i\n",
    "    return facNumber\n",
    "\n",
    "def fac1(num):\n",
    "    if num == 1:\n",
    "        return 1\n",
    "    else:\n",
    "        return (num * fac1(num - 1))\n",
    "\n",
    "fac1(6)"
   ]
  },
  {
   "cell_type": "markdown",
   "id": "56f47001",
   "metadata": {},
   "source": [
    "### 3: Write a Python Program to calculate your Body Mass Index."
   ]
  },
  {
   "cell_type": "code",
   "execution_count": 15,
   "id": "eebed98e",
   "metadata": {},
   "outputs": [],
   "source": [
    "# BMI = weight in kg / height in meter ** 2"
   ]
  },
  {
   "cell_type": "code",
   "execution_count": 19,
   "id": "65596ac9",
   "metadata": {},
   "outputs": [
    {
     "name": "stdout",
     "output_type": "stream",
     "text": [
      "Please enter your weight in kg: 80\n",
      "Please enter your heigth in meter: 1.79\n",
      "Your BMI is: 25\n"
     ]
    }
   ],
   "source": [
    "def bmi(weight, height):\n",
    "    return weight / height**2\n",
    "\n",
    "weight = float(input(\"Please enter your weight in kg: \"))\n",
    "height = float(input(\"Please enter your heigth in meter: \"))\n",
    "\n",
    "print(\"Your BMI is:\", round(bmi(weight, height)))\n"
   ]
  },
  {
   "cell_type": "markdown",
   "id": "98b363c7",
   "metadata": {},
   "source": [
    "### 4: Write a Python Program to calculate the natural logarithm of any number."
   ]
  },
  {
   "cell_type": "code",
   "execution_count": 22,
   "id": "57bd8e9e",
   "metadata": {},
   "outputs": [
    {
     "name": "stdout",
     "output_type": "stream",
     "text": [
      "2.302585092994046\n"
     ]
    }
   ],
   "source": [
    "import math\n",
    "\n",
    "number = 10\n",
    "\n",
    "print(math.log(number, math.e))"
   ]
  },
  {
   "cell_type": "markdown",
   "id": "7f4cd56f",
   "metadata": {},
   "source": [
    "### 5: Write a Python Program for cube sum of first n natural numbers."
   ]
  },
  {
   "cell_type": "code",
   "execution_count": 36,
   "id": "efff8b84",
   "metadata": {},
   "outputs": [
    {
     "name": "stdout",
     "output_type": "stream",
     "text": [
      "36\n"
     ]
    }
   ],
   "source": [
    "num = 0\n",
    "for i in range(1, 4):\n",
    "    num = num + i**3\n",
    "print(num)"
   ]
  },
  {
   "cell_type": "code",
   "execution_count": null,
   "id": "6b1356ee",
   "metadata": {},
   "outputs": [],
   "source": []
  }
 ],
 "metadata": {
  "kernelspec": {
   "display_name": "Python 3 (ipykernel)",
   "language": "python",
   "name": "python3"
  },
  "language_info": {
   "codemirror_mode": {
    "name": "ipython",
    "version": 3
   },
   "file_extension": ".py",
   "mimetype": "text/x-python",
   "name": "python",
   "nbconvert_exporter": "python",
   "pygments_lexer": "ipython3",
   "version": "3.9.7"
  }
 },
 "nbformat": 4,
 "nbformat_minor": 5
}
