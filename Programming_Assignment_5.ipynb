{
 "cells": [
  {
   "cell_type": "markdown",
   "id": "ec876cd9",
   "metadata": {},
   "source": [
    "# Programming Assignment 5 by Thomas Thurzo"
   ]
  },
  {
   "cell_type": "markdown",
   "id": "835d2f65",
   "metadata": {},
   "source": [
    "### 1: Write a Python Program to find the least common multiple (LCM)."
   ]
  },
  {
   "cell_type": "code",
   "execution_count": 5,
   "id": "0071f555",
   "metadata": {},
   "outputs": [
    {
     "name": "stdout",
     "output_type": "stream",
     "text": [
      "Please enter number 1: 45\n",
      "Please enter number 2: 54\n",
      "The L.C.M. from  45 and  54 is 270\n"
     ]
    }
   ],
   "source": [
    "def lcm(num1, num2):\n",
    "\n",
    "   if num1 > num2:\n",
    "       greater = num1\n",
    "   else:\n",
    "       greater = num2\n",
    "\n",
    "   while(True):\n",
    "       if((greater % num1 == 0) and (greater % num2 == 0)):\n",
    "           lcm = greater\n",
    "           break\n",
    "       greater = greater + 1\n",
    "\n",
    "   return lcm\n",
    "\n",
    "num1 = int(input(\"Please enter number 1: \"))\n",
    "num2 = int(input(\"Please enter number 2: \"))\n",
    "\n",
    "print(\"The LCM from \", num1,\"and\", num2,\"is\", lcm(num1, num2))"
   ]
  },
  {
   "cell_type": "markdown",
   "id": "912f6631",
   "metadata": {},
   "source": [
    "### 2: Write a Python Program to Find the highest common factor (HCF)."
   ]
  },
  {
   "cell_type": "code",
   "execution_count": 10,
   "id": "001573a3",
   "metadata": {},
   "outputs": [
    {
     "name": "stdout",
     "output_type": "stream",
     "text": [
      "Please enter number 1: 12\n",
      "Please enter number 2: 20\n",
      "The HCF from  12 and 20 is 4\n"
     ]
    }
   ],
   "source": [
    "def hcf(num1, num2):\n",
    "\n",
    "    if num1 > num2:\n",
    "        smaller = num2\n",
    "    else:\n",
    "        smaller = num1\n",
    "        \n",
    "    for i in range(1, smaller+1):\n",
    "        if((num1 % i == 0) and (num2 % i == 0)):\n",
    "            hcf = i \n",
    "    return hcf\n",
    "\n",
    "num1 = int(input(\"Please enter number 1: \"))\n",
    "num2 = int(input(\"Please enter number 2: \"))\n",
    "\n",
    "print(\"The HCF from \", num1,\"and\", num2,\"is\", hcf(num1, num2))\n"
   ]
  },
  {
   "cell_type": "markdown",
   "id": "5d51fe43",
   "metadata": {},
   "source": [
    "### 3: Write a Python Program to Convert Decimal to Binary, Octal and Hexadecimal."
   ]
  },
  {
   "cell_type": "code",
   "execution_count": 53,
   "id": "0519d805",
   "metadata": {},
   "outputs": [
    {
     "name": "stdout",
     "output_type": "stream",
     "text": [
      "1111010010111110010\n",
      "1722762\n",
      "7A5F2\n"
     ]
    }
   ],
   "source": [
    "import math\n",
    "\n",
    "def convBinary(num):\n",
    "    \"\"\"Converts a decimal number into a binary number\"\"\"\n",
    "    number = \"\"\n",
    "    \n",
    "    while num >= 1:\n",
    "        bin = num % 2\n",
    "        number = number + str(bin)\n",
    "        num = math.floor(num / 2)\n",
    "    number = int(number[::-1])\n",
    "    \n",
    "    return number\n",
    "\n",
    "def convOctal(num):\n",
    "    \"\"\"Converts a decimal number into an octal number\"\"\"\n",
    "    number = \"\"\n",
    "    \n",
    "    while num >= 1:\n",
    "        bin = num % 8\n",
    "        number = number + str(bin)\n",
    "        num = math.floor(num / 8)\n",
    "    number = int(number[::-1])\n",
    "    \n",
    "    return number\n",
    "\n",
    "def convHexa(num):\n",
    "    \"\"\"Converts a decimal number into a hexadecimal number\"\"\"\n",
    "    number = \"\"\n",
    "    \n",
    "    while num >= 1:\n",
    "        bin = num % 16\n",
    "        if bin == 15:\n",
    "            bin = \"F\"\n",
    "        elif bin == 14:\n",
    "            bin = \"E\"\n",
    "        elif bin == 13:\n",
    "            bin = \"D\"\n",
    "        elif bin == 12:\n",
    "            bin = \"C\"\n",
    "        elif bin == 11:\n",
    "            bin = \"B\"\n",
    "        elif bin == 10:\n",
    "            bin = \"A\"\n",
    "        number = number + str(bin)\n",
    "        num = math.floor(num / 16)\n",
    "    number = number[::-1]\n",
    "    \n",
    "    return number\n",
    "\n",
    "print(convBinary(501234))\n",
    "print(convOctal(501234))\n",
    "print(convHexa(501234))"
   ]
  },
  {
   "cell_type": "markdown",
   "id": "90a6f909",
   "metadata": {},
   "source": [
    "### 4: Write a Python Program To Find ASCII value of a character."
   ]
  },
  {
   "cell_type": "code",
   "execution_count": 11,
   "id": "462b1129",
   "metadata": {},
   "outputs": [
    {
     "name": "stdout",
     "output_type": "stream",
     "text": [
      "Pleas enter a value: z\n",
      "The ASCII value of z  is:  122\n"
     ]
    }
   ],
   "source": [
    "val = input(\"Pleas enter a value: \")\n",
    "print(\"The ASCII value of\", val, \" is: \", ord(val))"
   ]
  },
  {
   "cell_type": "markdown",
   "id": "f1e1a103",
   "metadata": {},
   "source": [
    "### 5: Write a Python Program to Make a Simple Calculator with 4 basic mathematical operations."
   ]
  },
  {
   "cell_type": "code",
   "execution_count": 22,
   "id": "2f15d3be",
   "metadata": {},
   "outputs": [
    {
     "name": "stdout",
     "output_type": "stream",
     "text": [
      "Please enter number 1: 12.3\n",
      "Please enter number 2: 12.8\n",
      "Please enter a mathematical operation (+,-,*,/): /\n",
      "The result is:  0.9609375\n"
     ]
    }
   ],
   "source": [
    "def plus(val1, val2):\n",
    "    return val1 + val2\n",
    "\n",
    "def minus(val1, val2):\n",
    "    return val2 - val2\n",
    "\n",
    "def multi(val1, val2):\n",
    "    return val1 * val2\n",
    "\n",
    "def divi(val1, val2):\n",
    "    return val1 / val2\n",
    "\n",
    "val1 = float(input(\"Please enter number 1: \"))\n",
    "val2 = float(input(\"Please enter number 2: \"))\n",
    "val3 = input(\"Please enter a mathematical operation (+,-,*,/): \")\n",
    "\n",
    "if val3 == \"+\":\n",
    "    result = plus(val1, val2)\n",
    "    print(\"The result is: \", result)\n",
    "elif val3 == \"-\":\n",
    "    result = minus(val1, val2)\n",
    "    print(\"The result is: \", result)\n",
    "elif val3 == \"*\":\n",
    "    result = multi(val1, val2)\n",
    "    print(\"The result is: \", result)\n",
    "elif val3 == \"/\":\n",
    "    result = divi(val1, val2)\n",
    "    print(\"The result is: \", result)"
   ]
  },
  {
   "cell_type": "code",
   "execution_count": null,
   "id": "2708ff35",
   "metadata": {},
   "outputs": [],
   "source": []
  }
 ],
 "metadata": {
  "kernelspec": {
   "display_name": "Python 3 (ipykernel)",
   "language": "python",
   "name": "python3"
  },
  "language_info": {
   "codemirror_mode": {
    "name": "ipython",
    "version": 3
   },
   "file_extension": ".py",
   "mimetype": "text/x-python",
   "name": "python",
   "nbconvert_exporter": "python",
   "pygments_lexer": "ipython3",
   "version": "3.9.7"
  }
 },
 "nbformat": 4,
 "nbformat_minor": 5
}
